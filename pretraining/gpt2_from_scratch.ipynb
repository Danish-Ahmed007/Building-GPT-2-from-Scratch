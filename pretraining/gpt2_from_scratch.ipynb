{
 "cells": [
  {
   "cell_type": "code",
   "execution_count": 1,
   "metadata": {},
   "outputs": [
    {
     "name": "stdout",
     "output_type": "stream",
     "text": [
      "PyTorch version: 2.7.1+cu126\n",
      "CUDA available: True\n"
     ]
    }
   ],
   "source": [
    "\n",
    "import torch\n",
    "import torch.nn as nn\n",
    "import numpy as np\n",
    "\n",
    "\n",
    "try:\n",
    "    torch.backends.cuda.matmul.allow_tf32 = True\n",
    "    torch.backends.cudnn.allow_tf32 = True\n",
    "    torch.set_float32_matmul_precision(\"high\")\n",
    "except Exception:\n",
    "    pass\n",
    "\n",
    "print(f\"PyTorch version: {torch.__version__}\")\n",
    "print(f\"CUDA available: {torch.cuda.is_available()}\")"
   ]
  },
  {
   "cell_type": "code",
   "execution_count": 2,
   "metadata": {
    "colab": {
     "base_uri": "https://localhost:8080/"
    },
    "id": "BZRZLsBWZCFK",
    "outputId": "fca29637-a387-4812-87af-91582d69ca13"
   },
   "outputs": [
    {
     "name": "stdout",
     "output_type": "stream",
     "text": [
      "Requirement already satisfied: tiktoken in ./jupyter-env/lib/python3.10/site-packages (0.9.0)\n",
      "Requirement already satisfied: regex>=2022.1.18 in ./jupyter-env/lib/python3.10/site-packages (from tiktoken) (2024.11.6)\n",
      "Requirement already satisfied: requests>=2.26.0 in ./jupyter-env/lib/python3.10/site-packages (from tiktoken) (2.32.4)\n",
      "Requirement already satisfied: charset_normalizer<4,>=2 in ./jupyter-env/lib/python3.10/site-packages (from requests>=2.26.0->tiktoken) (3.4.2)\n",
      "Requirement already satisfied: idna<4,>=2.5 in ./jupyter-env/lib/python3.10/site-packages (from requests>=2.26.0->tiktoken) (3.10)\n",
      "Requirement already satisfied: urllib3<3,>=1.21.1 in ./jupyter-env/lib/python3.10/site-packages (from requests>=2.26.0->tiktoken) (2.5.0)\n",
      "Requirement already satisfied: certifi>=2017.4.17 in ./jupyter-env/lib/python3.10/site-packages (from requests>=2.26.0->tiktoken) (2025.7.14)\n",
      "\n",
      "\u001b[1m[\u001b[0m\u001b[34;49mnotice\u001b[0m\u001b[1;39;49m]\u001b[0m\u001b[39;49m A new release of pip is available: \u001b[0m\u001b[31;49m25.1.1\u001b[0m\u001b[39;49m -> \u001b[0m\u001b[32;49m25.2\u001b[0m\n",
      "\u001b[1m[\u001b[0m\u001b[34;49mnotice\u001b[0m\u001b[1;39;49m]\u001b[0m\u001b[39;49m To update, run: \u001b[0m\u001b[32;49mpip install --upgrade pip\u001b[0m\n"
     ]
    }
   ],
   "source": [
    "!pip install tiktoken"
   ]
  },
  {
   "cell_type": "markdown",
   "metadata": {},
   "source": []
  },
  {
   "cell_type": "code",
   "execution_count": 3,
   "metadata": {
    "colab": {
     "base_uri": "https://localhost:8080/",
     "height": 35
    },
    "id": "s7g02P6cZCBA",
    "outputId": "2e4aa00b-4585-40d8-a452-e3e3dedb10cd"
   },
   "outputs": [
    {
     "data": {
      "text/plain": [
       "'0.9.0'"
      ]
     },
     "execution_count": 3,
     "metadata": {},
     "output_type": "execute_result"
    }
   ],
   "source": [
    "import importlib\n",
    "import tiktoken\n",
    "\n",
    "importlib.metadata.version(\"tiktoken\")"
   ]
  },
  {
   "cell_type": "code",
   "execution_count": 4,
   "metadata": {
    "id": "pBdltvW7ZB-g"
   },
   "outputs": [],
   "source": [
    "tokenizer = tiktoken.get_encoding(\"gpt2\")"
   ]
  },
  {
   "cell_type": "code",
   "execution_count": 5,
   "metadata": {
    "id": "AXuAJzW-YNWX"
   },
   "outputs": [],
   "source": [
    "class MultiHeadAttention(nn.Module):\n",
    "  def __init__(self, d_in, d_out, context_length, dropout, num_heads, qkv_bias = False):\n",
    "    super().__init__()\n",
    "    self.d_out = d_out\n",
    "    self.num_heads = num_heads\n",
    "    self.head_dim = d_out // num_heads\n",
    "\n",
    "    self.W_query = nn.Linear(d_in, d_out, bias = qkv_bias)\n",
    "    self.W_key = nn.Linear(d_in, d_out, bias = qkv_bias)\n",
    "    self.W_value = nn.Linear(d_in, d_out, bias = qkv_bias)\n",
    "    self.out_proj = nn.Linear(d_out, d_out)\n",
    "    self.dropout = nn.Dropout(dropout)\n",
    "    self.register_buffer(\n",
    "        \"mask\",\n",
    "        torch.triu(torch.ones(context_length, context_length), diagonal =1)\n",
    "    )\n",
    "\n",
    "\n",
    "  def forward(self, x):\n",
    "    batch, num_tokens, d_in = x.shape\n",
    "    keys = self.W_key(x)\n",
    "    queries = self.W_query(x)\n",
    "    values = self.W_value(x)\n",
    "\n",
    "\n",
    "    keys = keys.view(batch, num_tokens, self.num_heads, self.head_dim)\n",
    "    values = values.view(batch, num_tokens, self.num_heads, self.head_dim)\n",
    "    queries = queries.view(batch, num_tokens, self.num_heads, self.head_dim)\n",
    "\n",
    "    keys = keys.transpose(1,2)\n",
    "    values = values.transpose(1,2)\n",
    "    queries = queries.transpose(1,2)\n",
    "\n",
    "    attn_scores = queries @ keys.transpose(2,3)\n",
    "\n",
    "    mask_bool = self.mask.bool()[:num_tokens, :num_tokens]\n",
    "\n",
    "    attn_scores = attn_scores.masked_fill(mask_bool, -torch.inf) \n",
    "\n",
    "    attn_weights = torch.softmax(attn_scores/ keys.shape[-1]**0.5 , dim=-1)\n",
    "    attn_weights = self.dropout(attn_weights)\n",
    "\n",
    "    context_vecs = (attn_weights @ values).transpose(1,2)  \n",
    "\n",
    "    context_vecs = context_vecs.contiguous().view(batch, num_tokens, self.d_out)\n",
    "    context_vec = self.out_proj(context_vecs)\n",
    "\n",
    "    return context_vec"
   ]
  },
  {
   "cell_type": "code",
   "execution_count": 6,
   "metadata": {
    "id": "1K75pkGiGc1w"
   },
   "outputs": [],
   "source": [
    "GPT_CONFIG_124M = {\n",
    "    \"vocab_size\": 50257,\n",
    "    \"context_length\": 512,\n",
    "    \"emb_dim\": 384,\n",
    "    \"num_heads\": 6,\n",
    "    \"n_layers\": 6,\n",
    "    \"drop_rate\": 0.1,\n",
    "    \"qkv_bias\": False\n",
    "}"
   ]
  },
  {
   "cell_type": "code",
   "execution_count": 7,
   "metadata": {
    "id": "TuOLljh1NsHi"
   },
   "outputs": [],
   "source": [
    "class LayerNorm(nn.Module):\n",
    "  def __init__(self, emb_dim):\n",
    "    super().__init__()\n",
    "    self.eps = 1e-5\n",
    "    self.scale = nn.Parameter(torch.ones(emb_dim))\n",
    "    self.shift = nn.Parameter(torch.zeros(emb_dim))\n",
    "\n",
    "  def forward(self, x):\n",
    "    mean = x.mean(dim=-1, keepdim=True)\n",
    "    var = x.var(dim=-1, keepdim=True, unbiased = False)\n",
    "    norm_x = (x - mean) / torch.sqrt(var + self.eps)       \n",
    "    return self.scale * norm_x + self.shift\n",
    "\n",
    "class GELU(nn.Module):\n",
    "  def __init__(self):\n",
    "    super().__init__()\n",
    "\n",
    "  def forward(self, x):\n",
    "    return 0.5 * x * (1 + torch.tanh(\n",
    "        torch.sqrt(torch.tensor(2.0/torch.pi)) *\n",
    "        (x + 0.044715 * torch.pow(x, 3))\n",
    "    ))\n",
    "\n",
    "class FeedForward(nn.Module):\n",
    "  def __init__(self, cfg):\n",
    "    super().__init__()\n",
    "    self.layers = nn.Sequential(\n",
    "        nn.Linear(cfg[\"emb_dim\"], 4 * cfg[\"emb_dim\"]),\n",
    "        GELU(),\n",
    "        nn.Linear(4 * cfg[\"emb_dim\"], cfg[\"emb_dim\"])\n",
    "    )\n",
    "\n",
    "  def forward(self, x):\n",
    "    return self.layers(x)"
   ]
  },
  {
   "cell_type": "code",
   "execution_count": 8,
   "metadata": {
    "id": "n1Zrm_PiNsEa"
   },
   "outputs": [],
   "source": [
    "class TransformerBlock(nn.Module):\n",
    "  def __init__(self, cfg):\n",
    "    super().__init__()\n",
    "    self.attn = MultiHeadAttention(\n",
    "        d_in = cfg[\"emb_dim\"],\n",
    "        d_out = cfg[\"emb_dim\"],\n",
    "        context_length = cfg[\"context_length\"],\n",
    "        num_heads = cfg[\"num_heads\"],\n",
    "        dropout = cfg[\"drop_rate\"],\n",
    "        qkv_bias = cfg[\"qkv_bias\"]\n",
    "    )\n",
    "    self.ff = FeedForward(cfg)\n",
    "    self.norm1 = LayerNorm(cfg[\"emb_dim\"])\n",
    "    self.norm2 = LayerNorm(cfg[\"emb_dim\"])\n",
    "    self.drop_shortcut = nn.Dropout(cfg[\"drop_rate\"])\n",
    "\n",
    "  def forward(self, x):\n",
    "    \n",
    "     short_cut = x\n",
    "     x = self.norm1(x)\n",
    "     x = self.attn(x)\n",
    "     x = self.drop_shortcut(x)\n",
    "     x = x + short_cut  \n",
    "\n",
    "     \n",
    "     short_cut = x  \n",
    "     x = self.norm2(x)\n",
    "     x = self.ff(x)\n",
    "     x = self.drop_shortcut(x)\n",
    "     x = x + short_cut \n",
    "\n",
    "     return x"
   ]
  },
  {
   "cell_type": "code",
   "execution_count": 9,
   "metadata": {
    "id": "l-gvrPhobHGF"
   },
   "outputs": [],
   "source": [
    "class GPTModel(nn.Module):\n",
    "\n",
    "  def __init__(self, cfg):\n",
    "    super().__init__()\n",
    "    self.tok_emb = nn.Embedding(cfg[\"vocab_size\"], cfg[\"emb_dim\"])\n",
    "    self.pos_emb = nn.Embedding(cfg[\"context_length\"], cfg[\"emb_dim\"])\n",
    "    self.drop_emb = nn.Dropout(cfg[\"drop_rate\"])\n",
    "    self.trf_blocks = nn.Sequential(\n",
    "        *[TransformerBlock(cfg) for _ in range(cfg[\"n_layers\"])]\n",
    "    )\n",
    "    self.final_norm = LayerNorm(cfg[\"emb_dim\"])\n",
    "    self.out_head = nn.Linear(\n",
    "        cfg[\"emb_dim\"], cfg[\"vocab_size\"], bias = False\n",
    "    )\n",
    "\n",
    "  def forward(self, in_idx):\n",
    "    batch_size, seq_len = in_idx.shape\n",
    "    tok_embeds = self.tok_emb(in_idx)\n",
    "    pos_embeds = self.pos_emb(torch.arange(seq_len, device = in_idx.device))\n",
    "    x = tok_embeds + pos_embeds\n",
    "    x = self.drop_emb(x)\n",
    "    x = self.trf_blocks(x)\n",
    "    x = self.final_norm(x)\n",
    "    logits = self.out_head(x)\n",
    "\n",
    "    return logits\n"
   ]
  },
  {
   "cell_type": "code",
   "execution_count": 10,
   "metadata": {},
   "outputs": [],
   "source": [
    "def generate_text_simple(model, idx, max_new_tokens, context_size):\n",
    "    \"\"\"Simple text generation function\"\"\"\n",
    "    model.eval()\n",
    "    for _ in range(max_new_tokens):\n",
    "\n",
    "        idx_cond = idx[:, -context_size:]\n",
    "        \n",
    "   \n",
    "        with torch.no_grad():\n",
    "            logits = model(idx_cond)\n",
    "        \n",
    "       \n",
    "        logits = logits[:, -1, :] \n",
    "        \n",
    "    \n",
    "        probs = torch.softmax(logits, dim=-1) \n",
    "        \n",
    "        \n",
    "        idx_next = torch.argmax(probs, dim=-1, keepdim=True)  \n",
    "        \n",
    "   \n",
    "        idx = torch.cat((idx, idx_next), dim=1)  \n",
    "    \n",
    "    return idx"
   ]
  },
  {
   "cell_type": "code",
   "execution_count": 11,
   "metadata": {
    "colab": {
     "base_uri": "https://localhost:8080/"
    },
    "id": "SNeRw8-VYP1S",
    "outputId": "df94ca88-8146-474d-a712-290b3c7bd856"
   },
   "outputs": [],
   "source": [
    "import tiktoken\n",
    "\n",
    "def text_to_token_ids(text, tokenizer):\n",
    "    encoded = tokenizer.encode(text, allowed_special={'<|endoftext|>'})\n",
    "    encoded_tensor = torch.tensor(encoded).unsqueeze(0) \n",
    "    return encoded_tensor\n",
    "\n",
    "def token_ids_to_text(token_ids, tokenizer):\n",
    "    flat = token_ids.squeeze(0)  \n",
    "    return tokenizer.decode(flat.tolist())\n",
    "\n",
    "start_context = \"Every effort moves you\"\n",
    "tokenizer = tiktoken.get_encoding(\"gpt2\")\n"
   ]
  },
  {
   "cell_type": "code",
   "execution_count": 12,
   "metadata": {
    "id": "83xezbMfxMqv"
   },
   "outputs": [],
   "source": [
    "from torch.utils.data import Dataset, DataLoader\n",
    "\n",
    "class GPTDatasetV1(Dataset):\n",
    "  def __init__(self, txt, tokenizer, max_length, stride):\n",
    "    self.input_ids = []\n",
    "    self.target_ids = []\n",
    "\n",
    "    token_ids = tokenizer.encode(txt, allowed_special = {\"<|endoftext|>\"})\n",
    "\n",
    "    for i in range(0, len(token_ids)- max_length, stride):\n",
    "      input_chunk = token_ids[i:i + max_length]\n",
    "      target_chunk = token_ids[i+1: i + max_length + 1]\n",
    "\n",
    "      self.input_ids.append(torch.tensor(input_chunk))\n",
    "      self.target_ids.append(torch.tensor(target_chunk))\n",
    "\n",
    "  def __len__(self):\n",
    "    return len(self.input_ids)\n",
    "\n",
    "  def __getitem__(self, idx):\n",
    "    return self.input_ids[idx], self.target_ids[idx]\n",
    "\n",
    "\n",
    "def create_dataloader_v1(txt, batch_size=4, max_length = 256,\n",
    "                         stride = 256, shuffle= True, drop_last = True,\n",
    "                         num_workers = 0, pin_memory=None, prefetch_factor=4, persistent_workers=None):\n",
    "\n",
    "  tokenizer = tiktoken.get_encoding(\"gpt2\")\n",
    "\n",
    "  dataset = GPTDatasetV1(txt, tokenizer, max_length, stride)\n",
    "\n",
    "\n",
    "  if pin_memory is None:\n",
    "    pin_memory = torch.cuda.is_available()\n",
    "  if persistent_workers is None:\n",
    "    persistent_workers = num_workers > 0\n",
    "\n",
    "  dl_kwargs = {\n",
    "      \"dataset\": dataset,\n",
    "      \"batch_size\": batch_size,\n",
    "      \"shuffle\": shuffle,\n",
    "      \"drop_last\": drop_last,\n",
    "      \"num_workers\": num_workers,\n",
    "      \"pin_memory\": pin_memory,\n",
    "      \"persistent_workers\": persistent_workers,\n",
    "  }\n",
    "  if num_workers and num_workers > 0:\n",
    "      dl_kwargs[\"prefetch_factor\"] = prefetch_factor\n",
    "\n",
    "  dataloader = DataLoader(**dl_kwargs)\n",
    "  return dataloader"
   ]
  },
  {
   "cell_type": "code",
   "execution_count": 13,
   "metadata": {
    "id": "pg3lPRPVdZhI"
   },
   "outputs": [],
   "source": [
    "class GPTModel(nn.Module):\n",
    "\n",
    "  def __init__(self, cfg):\n",
    "    super().__init__()\n",
    "    self.tok_emb = nn.Embedding(cfg[\"vocab_size\"], cfg[\"emb_dim\"])\n",
    "    self.pos_emb = nn.Embedding(cfg[\"context_length\"], cfg[\"emb_dim\"])\n",
    "    self.drop_emb = nn.Dropout(cfg[\"drop_rate\"])\n",
    "    self.trf_blocks = nn.Sequential(\n",
    "        *[TransformerBlock(cfg) for _ in range(cfg[\"n_layers\"])]\n",
    "    )\n",
    "    self.final_norm = LayerNorm(cfg[\"emb_dim\"])\n",
    "    self.out_head = nn.Linear(\n",
    "        cfg[\"emb_dim\"], cfg[\"vocab_size\"], bias = False\n",
    "    )\n",
    "\n",
    "  def forward(self, in_idx):\n",
    "    batch_size, seq_len = in_idx.shape\n",
    "    tok_embeds = self.tok_emb(in_idx)\n",
    "    pos_embeds = self.pos_emb(torch.arange(seq_len, device = in_idx.device))\n",
    "    x = tok_embeds + pos_embeds\n",
    "    x = self.drop_emb(x)\n",
    "    x = self.trf_blocks(x)\n",
    "    x = self.final_norm(x)\n",
    "    logits = self.out_head(x)\n",
    "\n",
    "    return logits\n",
    "\n",
    "torch.manual_seed(123)\n",
    "model = GPTModel(GPT_CONFIG_124M)"
   ]
  },
  {
   "cell_type": "code",
   "execution_count": 14,
   "metadata": {
    "id": "NLBlo2zzdZeW"
   },
   "outputs": [],
   "source": [
    "def calc_loss_batch(input_batch, target_batch, model, device):\n",
    "  input_batch, target_batch = input_batch.to(device), target_batch.to(device)\n",
    "  logits = model(input_batch)\n",
    "  loss = nn.functional.cross_entropy(logits.flatten(0,1), target_batch.flatten())\n",
    "  return loss\n",
    "\n",
    "def calc_loss_loader(data_loader, model, device, num_batches=None):\n",
    "  total_loss = 0.\n",
    "  if len(data_loader) == 0:\n",
    "    return float(\"nan\")\n",
    "  elif num_batches is None:\n",
    "    num_batches = len(data_loader)\n",
    "  else:\n",
    "    num_batches = min(num_batches, len(data_loader))\n",
    "\n",
    "  for i, (input_batch, target_batch) in enumerate(data_loader):\n",
    "    if i < num_batches:\n",
    "      loss = calc_loss_batch(input_batch, target_batch, model, device)\n",
    "      total_loss += loss.item()\n",
    "    else:\n",
    "      break\n",
    "  return total_loss / num_batches"
   ]
  },
  {
   "cell_type": "code",
   "execution_count": 15,
   "metadata": {
    "colab": {
     "base_uri": "https://localhost:8080/"
    },
    "id": "FNHM9C3edZbg",
    "outputId": "5d1fce40-ec2a-44c6-f3a6-52c073ffb678"
   },
   "outputs": [
    {
     "data": {
      "text/plain": [
       "device(type='cuda')"
      ]
     },
     "execution_count": 15,
     "metadata": {},
     "output_type": "execute_result"
    }
   ],
   "source": [
    "device = torch.device(\"cuda\" if torch.cuda.is_available() else\"cpu\")\n",
    "device"
   ]
  },
  {
   "cell_type": "code",
   "execution_count": 16,
   "metadata": {
    "id": "gO8r6XFxZb1m"
   },
   "outputs": [],
   "source": [
    "from datasets import load_dataset\n",
    "\n",
    "ds = load_dataset(\"roneneldan/TinyStories\")"
   ]
  },
  {
   "cell_type": "code",
   "execution_count": 17,
   "metadata": {},
   "outputs": [
    {
     "name": "stdout",
     "output_type": "stream",
     "text": [
      "Total tokens: 475,890,377\n",
      "Number of stories: 2,119,719\n",
      "Average tokens per story: 224.5\n"
     ]
    }
   ],
   "source": [
    "train_text_data_str = \" <|endoftext|> \".join(ds['train']['text'])\n",
    "total_tokens = len(tokenizer.encode(train_text_data_str, allowed_special={'<|endoftext|>'}))\n",
    "\n",
    "print(f\"Total tokens: {total_tokens:,}\")\n",
    "print(f\"Number of stories: {len(ds['train']['text']):,}\")\n",
    "print(f\"Average tokens per story: {total_tokens / len(ds['train']['text']):.1f}\")"
   ]
  },
  {
   "cell_type": "code",
   "execution_count": 18,
   "metadata": {},
   "outputs": [
    {
     "name": "stdout",
     "output_type": "stream",
     "text": [
      "Total tokens: 4,785,859\n",
      "Number of stories: 21,990\n",
      "Average tokens per story: 217.6\n"
     ]
    }
   ],
   "source": [
    "val_text_data_str = \" <|endoftext|> \".join(ds['validation']['text'])\n",
    "total_tokens = len(tokenizer.encode(val_text_data_str, allowed_special={'<|endoftext|>'}))\n",
    "\n",
    "print(f\"Total tokens: {total_tokens:,}\")\n",
    "print(f\"Number of stories: {len(ds['validation']['text']):,}\")\n",
    "print(f\"Average tokens per story: {total_tokens / len(ds['validation']['text']):.1f}\")"
   ]
  },
  {
   "cell_type": "code",
   "execution_count": 19,
   "metadata": {
    "id": "7d82541b"
   },
   "outputs": [],
   "source": [
    "train_loader_tinystories = create_dataloader_v1(\n",
    "    train_text_data_str,\n",
    "    batch_size=16, \n",
    "    max_length=GPT_CONFIG_124M[\"context_length\"],\n",
    "    stride=GPT_CONFIG_124M[\"context_length\"],\n",
    "    shuffle=True,\n",
    "    drop_last=True,\n",
    "    num_workers=8 \n",
    ")\n",
    "\n",
    "val_loader_tinystories = create_dataloader_v1(\n",
    "    val_text_data_str,\n",
    "    batch_size=16,\n",
    "    max_length=GPT_CONFIG_124M[\"context_length\"],\n",
    "    stride=GPT_CONFIG_124M[\"context_length\"],\n",
    "    shuffle=False,\n",
    "    drop_last=False,\n",
    "    num_workers=8\n",
    ")\n",
    "\n",
    "\n",
    "if torch.cuda.is_available():\n",
    "    train_loader_tinystories.pin_memory = True\n",
    "    val_loader_tinystories.pin_memory = True"
   ]
  },
  {
   "cell_type": "code",
   "execution_count": 20,
   "metadata": {},
   "outputs": [
    {
     "name": "stdout",
     "output_type": "stream",
     "text": [
      "Train loader:\n",
      "torch.Size([16, 512]) torch.Size([16, 512])\n",
      "torch.Size([16, 512]) torch.Size([16, 512])\n",
      "torch.Size([16, 512]) torch.Size([16, 512])\n",
      "torch.Size([16, 512]) torch.Size([16, 512])\n",
      "torch.Size([16, 512]) torch.Size([16, 512])\n",
      "torch.Size([16, 512]) torch.Size([16, 512])\n",
      "\n",
      "Validation loader:\n",
      "torch.Size([16, 512]) torch.Size([16, 512])\n",
      "torch.Size([16, 512]) torch.Size([16, 512])\n",
      "torch.Size([16, 512]) torch.Size([16, 512])\n",
      "torch.Size([16, 512]) torch.Size([16, 512])\n",
      "torch.Size([16, 512]) torch.Size([16, 512])\n",
      "torch.Size([16, 512]) torch.Size([16, 512])\n",
      "Number of batches in train_stories: 58092\n",
      "Number of batches in validation_stories: 585\n"
     ]
    }
   ],
   "source": [
    "print(\"Train loader:\")\n",
    "for i, (x, y) in enumerate(train_loader_tinystories):\n",
    "  print(x.shape, y.shape)\n",
    "  if i == 5:\n",
    "        break\n",
    "\n",
    "print(\"\\nValidation loader:\")\n",
    "for i, (x, y) in enumerate(val_loader_tinystories):\n",
    "  print(x.shape, y.shape)\n",
    "  if i == 5:\n",
    "        break\n",
    "\n",
    "print(f\"Number of batches in train_stories: {len(train_loader_tinystories)}\")\n",
    "print(f\"Number of batches in validation_stories: {len(val_loader_tinystories)}\")\n"
   ]
  },
  {
   "cell_type": "code",
   "execution_count": 21,
   "metadata": {},
   "outputs": [],
   "source": [
    "torch.cuda.empty_cache()"
   ]
  },
  {
   "cell_type": "code",
   "execution_count": 22,
   "metadata": {},
   "outputs": [],
   "source": [
    "def train_model_simple(model, train_loader, val_loader, optimizer, device, num_epochs,\n",
    "                       eval_freq, eval_iter, start_context, tokenizer,\n",
    "                       start_epoch=0, global_step=-1,\n",
    "                       train_losses=None, val_losses=None, tokens_seen=0):\n",
    "\n",
    "    import os\n",
    "    os.makedirs(\"checkpoints\", exist_ok=True)\n",
    "\n",
    "    if train_losses is None: train_losses = []\n",
    "    if val_losses is None: val_losses = []\n",
    "    if tokens_seen is None: tokens_seen = 0\n",
    "\n",
    "  \n",
    "    global scheduler\n",
    "\n",
    "\n",
    "    use_cuda = torch.cuda.is_available()\n",
    "    amp_dtype = torch.bfloat16 if use_cuda and torch.cuda.is_bf16_supported() else torch.float16\n",
    "    scaler = torch.cuda.amp.GradScaler(enabled=(amp_dtype == torch.float16))\n",
    "\n",
    "    \n",
    "    try:\n",
    "        model = torch.compile(model)  \n",
    "    except Exception:\n",
    "        pass\n",
    "\n",
    "    for epoch in range(start_epoch, num_epochs):\n",
    "        model.train()\n",
    "\n",
    "        for input_batch, target_batch in train_loader:\n",
    "            optimizer.zero_grad(set_to_none=True)\n",
    "            input_batch, target_batch = input_batch.to(device, non_blocking=True), target_batch.to(device, non_blocking=True)\n",
    "\n",
    "            with torch.cuda.amp.autocast(enabled=use_cuda, dtype=amp_dtype):\n",
    "                loss = calc_loss_batch(input_batch, target_batch, model, device)\n",
    "\n",
    "            if scaler.is_enabled():\n",
    "                scaler.scale(loss).backward()\n",
    "                # Gradient clipping\n",
    "                scaler.unscale_(optimizer)\n",
    "                torch.nn.utils.clip_grad_norm_(model.parameters(), max_norm=1.0)\n",
    "                scaler.step(optimizer)\n",
    "                scaler.update()\n",
    "            else:\n",
    "                loss.backward()\n",
    "                torch.nn.utils.clip_grad_norm_(model.parameters(), max_norm=1.0)\n",
    "                optimizer.step()\n",
    "\n",
    "       \n",
    "            if 'scheduler' in globals() and scheduler is not None:\n",
    "                scheduler.step()\n",
    "\n",
    "            tokens_seen += input_batch.numel()\n",
    "            global_step += 1\n",
    "\n",
    "            if (global_step % eval_freq) == 0:\n",
    "                train_loss, val_loss = evaluate_model(\n",
    "                    model, train_loader, val_loader, device, eval_iter)\n",
    "                train_losses.append(train_loss)\n",
    "                val_losses.append(val_loss)\n",
    "                print(f\"Epoch: {epoch+1} | Step: {global_step:06d} | Train loss: {train_loss:.3f} | Val_loss: {val_loss:.3f}\")\n",
    "\n",
    "\n",
    "            if global_step % 50000 == 0:\n",
    "                torch.save({\n",
    "                    'epoch': epoch,\n",
    "                    'model_state_dict': model.state_dict(),\n",
    "                    'optimizer_state_dict': optimizer.state_dict(),\n",
    "                    'train_losses': train_losses,\n",
    "                    'val_losses': val_losses,\n",
    "                    'tokens_seen': tokens_seen,\n",
    "                    'global_step': global_step\n",
    "                }, f'checkpoints/ckpt_step_{global_step}.pt')\n",
    "                print(f\"Checkpoint saved at step {global_step}\")\n",
    "\n",
    "        generate_and_print_sample(model, tokenizer, device, start_context)\n",
    "\n",
    "        torch.save({\n",
    "            'epoch': epoch,\n",
    "            'model_state_dict': model.state_dict(),\n",
    "            'optimizer_state_dict': optimizer.state_dict(),\n",
    "            'train_losses': train_losses,\n",
    "            'val_losses': val_losses,\n",
    "            'tokens_seen': tokens_seen,\n",
    "            'global_step': global_step\n",
    "        }, f'checkpoints/ckpt_epoch_{epoch}.pt')\n",
    "        print(f\"Checkpoint saved at epoch {epoch}\")\n",
    "\n",
    "    return train_losses, val_losses, tokens_seen\n"
   ]
  },
  {
   "cell_type": "code",
   "execution_count": 23,
   "metadata": {},
   "outputs": [],
   "source": [
    "def evaluate_model(model, train_loader, val_loader, device, eval_iter):\n",
    "  model.eval()\n",
    "  use_cuda = torch.cuda.is_available()\n",
    "  amp_dtype = torch.bfloat16 if use_cuda and torch.cuda.is_bf16_supported() else torch.float16\n",
    "  with torch.no_grad():\n",
    "    with torch.cuda.amp.autocast(enabled=use_cuda, dtype=amp_dtype):\n",
    "      train_loss = calc_loss_loader(train_loader, model, device, num_batches=eval_iter)\n",
    "      val_loss = calc_loss_loader(val_loader, model, device, num_batches=eval_iter)\n",
    "  \n",
    "  model.train()\n",
    "  return train_loss, val_loss"
   ]
  },
  {
   "cell_type": "code",
   "execution_count": 24,
   "metadata": {},
   "outputs": [],
   "source": [
    "def generate_and_print_sample(model, tokenizer, device, start_context):\n",
    "    model.eval()\n",
    "    context_size = model.pos_emb.weight.shape[0]\n",
    "    encoded = text_to_token_ids(start_context, tokenizer).to(device)\n",
    "    with torch.no_grad():\n",
    "        token_ids = generate_text_simple(\n",
    "            model=model, idx=encoded,\n",
    "            max_new_tokens=50, context_size=context_size\n",
    "        )\n",
    "    decoded_text = token_ids_to_text(token_ids, tokenizer)\n",
    "    print(decoded_text.replace(\"\\n\", \" \"))  \n",
    "    model.train()\n"
   ]
  },
  {
   "cell_type": "code",
   "execution_count": 25,
   "metadata": {},
   "outputs": [
    {
     "name": "stdout",
     "output_type": "stream",
     "text": [
      "Starting fresh training\n"
     ]
    },
    {
     "name": "stderr",
     "output_type": "stream",
     "text": [
      "/tmp/ipykernel_479544/1797713014.py:19: FutureWarning: `torch.cuda.amp.GradScaler(args...)` is deprecated. Please use `torch.amp.GradScaler('cuda', args...)` instead.\n",
      "  scaler = torch.cuda.amp.GradScaler(enabled=(amp_dtype == torch.float16))\n",
      "/tmp/ipykernel_479544/1797713014.py:34: FutureWarning: `torch.cuda.amp.autocast(args...)` is deprecated. Please use `torch.amp.autocast('cuda', args...)` instead.\n",
      "  with torch.cuda.amp.autocast(enabled=use_cuda, dtype=amp_dtype):\n",
      "/tmp/ipykernel_479544/1304172257.py:6: FutureWarning: `torch.cuda.amp.autocast(args...)` is deprecated. Please use `torch.amp.autocast('cuda', args...)` instead.\n",
      "  with torch.cuda.amp.autocast(enabled=use_cuda, dtype=amp_dtype):\n"
     ]
    },
    {
     "name": "stdout",
     "output_type": "stream",
     "text": [
      "Epoch: 1 | Step: 000000 | Train loss: 11.011 | Val_loss: 11.011\n",
      "Checkpoint saved at step 0\n",
      "Once upon a time, there was a little girl namedEhount yawnFirst 1924 Troll Labyrinth orbit Worker HOME Laurel sense residence gate spoon reversible atheistsChip Hispan debut bitcoin Diane poorer humouroga overboard competitors immun NTSSHIPCompan Hasan coaches 311onica Brah sensitivity Task oddly resemblingandraimpl Savannah••Damage Nixonoly uncover fingertips Rac\n",
      "Checkpoint saved at epoch 0\n"
     ]
    },
    {
     "name": "stderr",
     "output_type": "stream",
     "text": [
      "/tmp/ipykernel_479544/1797713014.py:34: FutureWarning: `torch.cuda.amp.autocast(args...)` is deprecated. Please use `torch.amp.autocast('cuda', args...)` instead.\n",
      "  with torch.cuda.amp.autocast(enabled=use_cuda, dtype=amp_dtype):\n"
     ]
    },
    {
     "name": "stdout",
     "output_type": "stream",
     "text": [
      "Checkpoint saved at step 50000\n",
      "Once upon a time, there was a little girl named Lily. She loved to play with her toys and run around outside. One day, Lily's mommy asked her to help clean up her toys. Lily didn't want to clean up, but she knew she had to listen to her mommy.\n",
      "Checkpoint saved at epoch 1\n"
     ]
    },
    {
     "name": "stderr",
     "output_type": "stream",
     "text": [
      "/tmp/ipykernel_479544/1304172257.py:6: FutureWarning: `torch.cuda.amp.autocast(args...)` is deprecated. Please use `torch.amp.autocast('cuda', args...)` instead.\n",
      "  with torch.cuda.amp.autocast(enabled=use_cuda, dtype=amp_dtype):\n"
     ]
    },
    {
     "name": "stdout",
     "output_type": "stream",
     "text": [
      "Epoch: 3 | Step: 100000 | Train loss: 1.607 | Val_loss: 1.620\n",
      "Checkpoint saved at step 100000\n",
      "Once upon a time, there was a little girl named Lily. She loved to play with her toys and her favorite was a big, red ball. One day, Lily's mom asked her to clean up her toys. Lily didn't want to clean up, but she knew she had to listen to her\n",
      "Checkpoint saved at epoch 2\n",
      "Checkpoint saved at step 150000\n",
      "Once upon a time, there was a little girl named Lily. She loved to play outside in the park. One day, she saw a big, scary dog. The dog was barking and running towards her. Lily was scared and ran away.  Later that day, Lily's mom asked her to\n",
      "Checkpoint saved at epoch 3\n",
      "Training completed in 117.97 minutes.\n"
     ]
    }
   ],
   "source": [
    "import os\n",
    "import time\n",
    "\n",
    "start_time = time.time()\n",
    "\n",
    "torch.manual_seed(123)\n",
    "model = GPTModel(GPT_CONFIG_124M)\n",
    "model.to(device)\n",
    "\n",
    "no_decay = [\"bias\", \"LayerNorm.weight\", \"layer_norm.weight\", \"ln.weight\", \"scale\", \"shift\"]\n",
    "param_groups = [\n",
    "    {\"params\": [p for n, p in model.named_parameters() if not any(nd in n for nd in no_decay)], \"weight_decay\": 0.01},\n",
    "    {\"params\": [p for n, p in model.named_parameters() if any(nd in n for nd in no_decay)], \"weight_decay\": 0.0},\n",
    "]\n",
    "optimizer = torch.optim.AdamW(param_groups, lr=3e-4, betas=(0.9, 0.95))\n",
    "\n",
    "\n",
    "from torch.optim.lr_scheduler import LambdaLR\n",
    "\n",
    "def cosine_with_warmup_lambda(current_step, *, warmup_steps, total_steps):\n",
    "    if current_step < warmup_steps:\n",
    "        return float(current_step) / float(max(1, warmup_steps))\n",
    "  \n",
    "    progress = float(current_step - warmup_steps) / float(max(1, total_steps - warmup_steps))\n",
    "    return 0.5 * (1.0 + math.cos(math.pi * progress))\n",
    "\n",
    "import math\n",
    "\n",
    "warmup_steps = 2000\n",
    "\n",
    "\n",
    "\n",
    "checkpoint_path = 'checkpoints/ckpt_step_440000.pt'  \n",
    "train_losses, val_losses = [], [] \n",
    "tokens_seen = 0  \n",
    "start_epoch = 0\n",
    "global_step = -1\n",
    "\n",
    "if os.path.exists(checkpoint_path):\n",
    "    checkpoint = torch.load(checkpoint_path)\n",
    "    model.load_state_dict(checkpoint['model_state_dict'])\n",
    "    optimizer.load_state_dict(checkpoint['optimizer_state_dict'])\n",
    "    train_losses = checkpoint['train_losses']\n",
    "    val_losses = checkpoint['val_losses']\n",
    "    tokens_seen = checkpoint['tokens_seen']\n",
    "    start_epoch = checkpoint['epoch'] + 1\n",
    "    global_step = checkpoint['global_step']\n",
    "    print(f\"Resumed from checkpoint at epoch {start_epoch}\")\n",
    "else:\n",
    "    print(\"Starting fresh training\")\n",
    "\n",
    "num_epochs = 4\n",
    "\n",
    "\n",
    "estimated_total_steps = max(1, num_epochs * len(train_loader_tinystories))\n",
    "scheduler = LambdaLR(\n",
    "    optimizer,\n",
    "    lr_lambda=lambda step: cosine_with_warmup_lambda(step, warmup_steps=warmup_steps, total_steps=warmup_steps + estimated_total_steps)\n",
    ")\n",
    "\n",
    "train_losses, val_losses, tokens_seen = train_model_simple(\n",
    "    model, train_loader_tinystories, val_loader_tinystories, optimizer, device,\n",
    "    num_epochs=num_epochs, eval_freq=100000, eval_iter=100000,\n",
    "    start_context=\"Once upon a time, there was a little girl named\", tokenizer=tokenizer,\n",
    "    start_epoch=start_epoch, global_step=global_step,\n",
    "    train_losses=train_losses, val_losses=val_losses, tokens_seen=tokens_seen\n",
    ")\n",
    "\n",
    "\n",
    "end_time = time.time()\n",
    "execution_time_minutes = (end_time - start_time) / 60\n",
    "print(f\"Training completed in {execution_time_minutes:.2f} minutes.\")"
   ]
  },
  {
   "cell_type": "code",
   "execution_count": 26,
   "metadata": {},
   "outputs": [
    {
     "ename": "ValueError",
     "evalue": "x and y must have same first dimension, but have shapes (1,) and (2,)",
     "output_type": "error",
     "traceback": [
      "\u001b[0;31m---------------------------------------------------------------------------\u001b[0m",
      "\u001b[0;31mValueError\u001b[0m                                Traceback (most recent call last)",
      "Cell \u001b[0;32mIn[26], line 26\u001b[0m\n\u001b[1;32m     24\u001b[0m \u001b[38;5;66;03m# Example usage:\u001b[39;00m\n\u001b[1;32m     25\u001b[0m epochs_tensor \u001b[38;5;241m=\u001b[39m torch\u001b[38;5;241m.\u001b[39mlinspace(\u001b[38;5;241m0\u001b[39m, num_epochs, \u001b[38;5;28mlen\u001b[39m(train_losses))\n\u001b[0;32m---> 26\u001b[0m \u001b[43mplot_losses\u001b[49m\u001b[43m(\u001b[49m\u001b[43mepochs_tensor\u001b[49m\u001b[43m,\u001b[49m\u001b[43m \u001b[49m\u001b[43mtokens_seen\u001b[49m\u001b[43m,\u001b[49m\u001b[43m \u001b[49m\u001b[43mtrain_losses\u001b[49m\u001b[43m,\u001b[49m\u001b[43m \u001b[49m\u001b[43mval_losses\u001b[49m\u001b[43m)\u001b[49m\n",
      "Cell \u001b[0;32mIn[26], line 17\u001b[0m, in \u001b[0;36mplot_losses\u001b[0;34m(epochs_seen, tokens_seen, train_losses, val_losses)\u001b[0m\n\u001b[1;32m     15\u001b[0m \u001b[38;5;66;03m# Create a second x-axis for tokens seen\u001b[39;00m\n\u001b[1;32m     16\u001b[0m ax2 \u001b[38;5;241m=\u001b[39m ax1\u001b[38;5;241m.\u001b[39mtwiny()  \u001b[38;5;66;03m# Create a second x-axis that shares the same y-axis\u001b[39;00m\n\u001b[0;32m---> 17\u001b[0m \u001b[43max2\u001b[49m\u001b[38;5;241;43m.\u001b[39;49m\u001b[43mplot\u001b[49m\u001b[43m(\u001b[49m\u001b[43mtokens_seen\u001b[49m\u001b[43m,\u001b[49m\u001b[43m \u001b[49m\u001b[43mtrain_losses\u001b[49m\u001b[43m,\u001b[49m\u001b[43m \u001b[49m\u001b[43malpha\u001b[49m\u001b[38;5;241;43m=\u001b[39;49m\u001b[38;5;241;43m0\u001b[39;49m\u001b[43m)\u001b[49m  \u001b[38;5;66;03m# Invisible plot for aligning ticks\u001b[39;00m\n\u001b[1;32m     18\u001b[0m ax2\u001b[38;5;241m.\u001b[39mset_xlabel(\u001b[38;5;124m\"\u001b[39m\u001b[38;5;124mTokens seen\u001b[39m\u001b[38;5;124m\"\u001b[39m)\n\u001b[1;32m     20\u001b[0m fig\u001b[38;5;241m.\u001b[39mtight_layout()  \u001b[38;5;66;03m# Adjust layout to make room\u001b[39;00m\n",
      "File \u001b[0;32m~/jupyter-env/lib/python3.10/site-packages/matplotlib/axes/_axes.py:1777\u001b[0m, in \u001b[0;36mAxes.plot\u001b[0;34m(self, scalex, scaley, data, *args, **kwargs)\u001b[0m\n\u001b[1;32m   1534\u001b[0m \u001b[38;5;250m\u001b[39m\u001b[38;5;124;03m\"\"\"\u001b[39;00m\n\u001b[1;32m   1535\u001b[0m \u001b[38;5;124;03mPlot y versus x as lines and/or markers.\u001b[39;00m\n\u001b[1;32m   1536\u001b[0m \n\u001b[0;32m   (...)\u001b[0m\n\u001b[1;32m   1774\u001b[0m \u001b[38;5;124;03m(``'green'``) or hex strings (``'#008000'``).\u001b[39;00m\n\u001b[1;32m   1775\u001b[0m \u001b[38;5;124;03m\"\"\"\u001b[39;00m\n\u001b[1;32m   1776\u001b[0m kwargs \u001b[38;5;241m=\u001b[39m cbook\u001b[38;5;241m.\u001b[39mnormalize_kwargs(kwargs, mlines\u001b[38;5;241m.\u001b[39mLine2D)\n\u001b[0;32m-> 1777\u001b[0m lines \u001b[38;5;241m=\u001b[39m [\u001b[38;5;241m*\u001b[39m\u001b[38;5;28mself\u001b[39m\u001b[38;5;241m.\u001b[39m_get_lines(\u001b[38;5;28mself\u001b[39m, \u001b[38;5;241m*\u001b[39margs, data\u001b[38;5;241m=\u001b[39mdata, \u001b[38;5;241m*\u001b[39m\u001b[38;5;241m*\u001b[39mkwargs)]\n\u001b[1;32m   1778\u001b[0m \u001b[38;5;28;01mfor\u001b[39;00m line \u001b[38;5;129;01min\u001b[39;00m lines:\n\u001b[1;32m   1779\u001b[0m     \u001b[38;5;28mself\u001b[39m\u001b[38;5;241m.\u001b[39madd_line(line)\n",
      "File \u001b[0;32m~/jupyter-env/lib/python3.10/site-packages/matplotlib/axes/_base.py:297\u001b[0m, in \u001b[0;36m_process_plot_var_args.__call__\u001b[0;34m(self, axes, data, return_kwargs, *args, **kwargs)\u001b[0m\n\u001b[1;32m    295\u001b[0m     this \u001b[38;5;241m+\u001b[39m\u001b[38;5;241m=\u001b[39m args[\u001b[38;5;241m0\u001b[39m],\n\u001b[1;32m    296\u001b[0m     args \u001b[38;5;241m=\u001b[39m args[\u001b[38;5;241m1\u001b[39m:]\n\u001b[0;32m--> 297\u001b[0m \u001b[38;5;28;01myield from\u001b[39;00m \u001b[38;5;28;43mself\u001b[39;49m\u001b[38;5;241;43m.\u001b[39;49m\u001b[43m_plot_args\u001b[49m\u001b[43m(\u001b[49m\n\u001b[1;32m    298\u001b[0m \u001b[43m    \u001b[49m\u001b[43maxes\u001b[49m\u001b[43m,\u001b[49m\u001b[43m \u001b[49m\u001b[43mthis\u001b[49m\u001b[43m,\u001b[49m\u001b[43m \u001b[49m\u001b[43mkwargs\u001b[49m\u001b[43m,\u001b[49m\u001b[43m \u001b[49m\u001b[43mambiguous_fmt_datakey\u001b[49m\u001b[38;5;241;43m=\u001b[39;49m\u001b[43mambiguous_fmt_datakey\u001b[49m\u001b[43m,\u001b[49m\n\u001b[1;32m    299\u001b[0m \u001b[43m    \u001b[49m\u001b[43mreturn_kwargs\u001b[49m\u001b[38;5;241;43m=\u001b[39;49m\u001b[43mreturn_kwargs\u001b[49m\n\u001b[1;32m    300\u001b[0m \u001b[43m\u001b[49m\u001b[43m)\u001b[49m\n",
      "File \u001b[0;32m~/jupyter-env/lib/python3.10/site-packages/matplotlib/axes/_base.py:494\u001b[0m, in \u001b[0;36m_process_plot_var_args._plot_args\u001b[0;34m(self, axes, tup, kwargs, return_kwargs, ambiguous_fmt_datakey)\u001b[0m\n\u001b[1;32m    491\u001b[0m     axes\u001b[38;5;241m.\u001b[39myaxis\u001b[38;5;241m.\u001b[39mupdate_units(y)\n\u001b[1;32m    493\u001b[0m \u001b[38;5;28;01mif\u001b[39;00m x\u001b[38;5;241m.\u001b[39mshape[\u001b[38;5;241m0\u001b[39m] \u001b[38;5;241m!=\u001b[39m y\u001b[38;5;241m.\u001b[39mshape[\u001b[38;5;241m0\u001b[39m]:\n\u001b[0;32m--> 494\u001b[0m     \u001b[38;5;28;01mraise\u001b[39;00m \u001b[38;5;167;01mValueError\u001b[39;00m(\u001b[38;5;124mf\u001b[39m\u001b[38;5;124m\"\u001b[39m\u001b[38;5;124mx and y must have same first dimension, but \u001b[39m\u001b[38;5;124m\"\u001b[39m\n\u001b[1;32m    495\u001b[0m                      \u001b[38;5;124mf\u001b[39m\u001b[38;5;124m\"\u001b[39m\u001b[38;5;124mhave shapes \u001b[39m\u001b[38;5;132;01m{\u001b[39;00mx\u001b[38;5;241m.\u001b[39mshape\u001b[38;5;132;01m}\u001b[39;00m\u001b[38;5;124m and \u001b[39m\u001b[38;5;132;01m{\u001b[39;00my\u001b[38;5;241m.\u001b[39mshape\u001b[38;5;132;01m}\u001b[39;00m\u001b[38;5;124m\"\u001b[39m)\n\u001b[1;32m    496\u001b[0m \u001b[38;5;28;01mif\u001b[39;00m x\u001b[38;5;241m.\u001b[39mndim \u001b[38;5;241m>\u001b[39m \u001b[38;5;241m2\u001b[39m \u001b[38;5;129;01mor\u001b[39;00m y\u001b[38;5;241m.\u001b[39mndim \u001b[38;5;241m>\u001b[39m \u001b[38;5;241m2\u001b[39m:\n\u001b[1;32m    497\u001b[0m     \u001b[38;5;28;01mraise\u001b[39;00m \u001b[38;5;167;01mValueError\u001b[39;00m(\u001b[38;5;124mf\u001b[39m\u001b[38;5;124m\"\u001b[39m\u001b[38;5;124mx and y can be no greater than 2D, but have \u001b[39m\u001b[38;5;124m\"\u001b[39m\n\u001b[1;32m    498\u001b[0m                      \u001b[38;5;124mf\u001b[39m\u001b[38;5;124m\"\u001b[39m\u001b[38;5;124mshapes \u001b[39m\u001b[38;5;132;01m{\u001b[39;00mx\u001b[38;5;241m.\u001b[39mshape\u001b[38;5;132;01m}\u001b[39;00m\u001b[38;5;124m and \u001b[39m\u001b[38;5;132;01m{\u001b[39;00my\u001b[38;5;241m.\u001b[39mshape\u001b[38;5;132;01m}\u001b[39;00m\u001b[38;5;124m\"\u001b[39m)\n",
      "\u001b[0;31mValueError\u001b[0m: x and y must have same first dimension, but have shapes (1,) and (2,)"
     ]
    },
    {
     "data": {
      "image/png": "[encoded data removed]",
      "text/plain": [
       "<Figure size 500x300 with 2 Axes>"
      ]
     },
     "metadata": {},
     "output_type": "display_data"
    }
   ],
   "source": [
    "import matplotlib.pyplot as plt\n",
    "from matplotlib.ticker import MaxNLocator\n",
    "\n",
    "def plot_losses(epochs_seen, tokens_seen, train_losses, val_losses):\n",
    "    fig, ax1 = plt.subplots(figsize=(5, 3))\n",
    "\n",
    "    # Plot training and validation loss against epochs\n",
    "    ax1.plot(epochs_seen, train_losses, label=\"Training loss\")\n",
    "    ax1.plot(epochs_seen, val_losses, linestyle=\"-.\", label=\"Validation loss\")\n",
    "    ax1.set_xlabel(\"Epochs\")\n",
    "    ax1.set_ylabel(\"Loss\")\n",
    "    ax1.legend(loc=\"upper right\")\n",
    "    ax1.xaxis.set_major_locator(MaxNLocator(integer=True))  # only show integer labels on x-axis\n",
    "\n",
    "    # Create a second x-axis for tokens seen\n",
    "    ax2 = ax1.twiny()  # Create a second x-axis that shares the same y-axis\n",
    "    ax2.plot(tokens_seen, train_losses, alpha=0)  # Invisible plot for aligning ticks\n",
    "    ax2.set_xlabel(\"Tokens seen\")\n",
    "\n",
    "    fig.tight_layout()  # Adjust layout to make room\n",
    "    plt.savefig(\"loss-plot.pdf\")\n",
    "    plt.show()\n",
    "\n",
    "# Example usage:\n",
    "epochs_tensor = torch.linspace(0, num_epochs, len(train_losses))\n",
    "plot_losses(epochs_tensor, tokens_seen, train_losses, val_losses)\n"
   ]
  },
  {
   "cell_type": "code",
   "execution_count": 27,
   "metadata": {},
   "outputs": [],
   "source": [
    "def generate(model, idx, max_new_tokens, context_size, temperature=0.0, top_k=None, eos_id=None):\n",
    "\n",
    "   \n",
    "    for _ in range(max_new_tokens):\n",
    "        idx_cond = idx[:, -context_size:]\n",
    "        with torch.no_grad():\n",
    "            logits = model(idx_cond)\n",
    "        logits = logits[:, -1, :]\n",
    "\n",
    "\n",
    "        if top_k is not None:\n",
    "      \n",
    "            top_logits, _ = torch.topk(logits, top_k)\n",
    "            min_val = top_logits[:, -1]\n",
    "            logits = torch.where(logits < min_val, torch.tensor(float(\"-inf\")).to(logits.device), logits)\n",
    "\n",
    "  \n",
    "        if temperature > 0.0:\n",
    "            logits = logits / temperature\n",
    "\n",
    "       \n",
    "            probs = torch.softmax(logits, dim=-1)  \n",
    "\n",
    "  \n",
    "            idx_next = torch.multinomial(probs, num_samples=1)  \n",
    "\n",
    "       \n",
    "        else:\n",
    "            idx_next = torch.argmax(logits, dim=-1, keepdim=True)  \n",
    "\n",
    "     \n",
    "        if eos_id is not None and (idx_next == eos_id).any():\n",
    "            break\n",
    "\n",
    "      \n",
    "        idx = torch.cat((idx, idx_next), dim=1)  \n",
    "\n",
    "    return idx"
   ]
  },
  {
   "cell_type": "code",
   "execution_count": 28,
   "metadata": {},
   "outputs": [],
   "source": [
    "def generate_and_print_sample(model, tokenizer, device, start_context):\n",
    "    model.eval()\n",
    "    context_size = model.pos_emb.weight.shape[0]\n",
    "    encoded = text_to_token_ids(start_context, tokenizer).to(device)\n",
    "    with torch.no_grad():\n",
    "        token_ids = generate(\n",
    "            model=model, idx=encoded,\n",
    "            max_new_tokens=200, context_size=context_size, temperature=0.7, top_k=40\n",
    "        )\n",
    "    decoded_text = token_ids_to_text(token_ids, tokenizer)\n",
    "    print(decoded_text.replace(\"\\n\", \" \")) \n",
    "    model.train()\n"
   ]
  },
  {
   "cell_type": "code",
   "execution_count": 38,
   "metadata": {},
   "outputs": [
    {
     "name": "stdout",
     "output_type": "stream",
     "text": [
      "Once upon a time there was a girl named Lucy. She was very curious and loved to explore. One day, she decided to go on an adventure.  She went down a long hill and then she came to a big lake. She wanted to see what was there. She looked around and saw a big tree. It was a very old tree and she wanted to climb it.  So she climbed up the tree. She climbed to the top and looked around. She saw a big lake and she was having so much fun. Then she heard a noise coming from the lake.  She looked around and saw a bird on the ground. It was swimming around!  Lucy started to wonder what the bird was doing. She wanted to help it. She climbed up the tree and carefully climbed down.  The bird was very happy that Lucy was able to help. It made Lucy feel good inside. She said goodbye and flew off into the sky. <|endoftext|> Once upon a time, there was a big lake\n"
     ]
    }
   ],
   "source": [
    "start_context = \"Once upon a time there was a girl named\"\n",
    "\n",
    "generate_and_print_sample(model, tokenizer, device, start_context)"
   ]
  },
  {
   "cell_type": "code",
   "execution_count": 31,
   "metadata": {},
   "outputs": [
    {
     "data": {
      "text/plain": [
       "tensor(549.4410)"
      ]
     },
     "execution_count": 31,
     "metadata": {},
     "output_type": "execute_result"
    }
   ],
   "source": [
    "perplexity = torch.exp(torch.mean(torch.tensor(train_losses)))\n",
    "perplexity"
   ]
  },
  {
   "cell_type": "code",
   "execution_count": null,
   "metadata": {},
   "outputs": [],
   "source": []
  },
  {
   "cell_type": "code",
   "execution_count": null,
   "metadata": {},
   "outputs": [],
   "source": []
  },
  {
   "cell_type": "code",
   "execution_count": null,
   "metadata": {},
   "outputs": [],
   "source": []
  },
  {
   "cell_type": "code",
   "execution_count": null,
   "metadata": {},
   "outputs": [],
   "source": []
  },
  {
   "cell_type": "code",
   "execution_count": null,
   "metadata": {},
   "outputs": [],
   "source": []
  }
 ],
 "metadata": {
  "colab": {
   "provenance": []
  },
  "kernelspec": {
   "display_name": "Python 3 (ipykernel)",
   "language": "python",
   "name": "python3"
  },
  "language_info": {
   "codemirror_mode": {
    "name": "ipython",
    "version": 3
   },
   "file_extension": ".py",
   "mimetype": "text/x-python",
   "name": "python",
   "nbconvert_exporter": "python",
   "pygments_lexer": "ipython3",
   "version": "3.10.12"
  }
 },
 "nbformat": 4,
 "nbformat_minor": 4
}
